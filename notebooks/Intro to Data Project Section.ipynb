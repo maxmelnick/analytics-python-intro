{
 "cells": [
  {
   "cell_type": "markdown",
   "metadata": {},
   "source": [
    "#INTRO TO DATA PROJECTS"
   ]
  },
  {
   "cell_type": "markdown",
   "metadata": {},
   "source": [
    "Congrats! Let's get started.\n",
    "\n",
    "You have the skills you need to analyze large data sets! \n",
    "\n",
    "If you want, go ahead and just go for it with these free public data set resources:\n",
    "\n",
    "http://www.data.gov/\n",
    "\n",
    "http://aws.amazon.com/public-data-sets/\n",
    "\n",
    "http://www.google.com/publicdata/directory"
   ]
  },
  {
   "cell_type": "code",
   "execution_count": null,
   "metadata": {
    "collapsed": true
   },
   "outputs": [],
   "source": []
  }
 ],
 "metadata": {
  "kernelspec": {
   "display_name": "Python 2",
   "language": "python",
   "name": "python2"
  },
  "language_info": {
   "codemirror_mode": {
    "name": "ipython",
    "version": 2
   },
   "file_extension": ".py",
   "mimetype": "text/x-python",
   "name": "python",
   "nbconvert_exporter": "python",
   "pygments_lexer": "ipython2",
   "version": "2.7.7"
  }
 },
 "nbformat": 4,
 "nbformat_minor": 0
}
